{
 "cells": [
  {
   "cell_type": "markdown",
   "metadata": {},
   "source": [
    "# Toxicity Bias Logistic Regression, TfidfVectorizer\n",
    "\n",
    "\n",
    "* **1. Introduction**\n",
    "* **2. Data preparation**\n",
    "    * 2.1 Loading packages\n",
    "    * 2.2 Load data\n",
    "    * 2.3 Show head of data\n",
    "    * 2.4 Drop NAN values\n",
    "* **3. Clean data**\n",
    "    * 3.1 TfidfVectorizer\n",
    "* **4. Machine learning**\n",
    "    * 4.1 Split data\n",
    "    * 4.2 Define Model\n",
    "    * 4.3 Fit Model\n",
    "* **4. Evaluate the model**\n",
    "    * 4.1 Confusion matrix\n",
    "    * 4.2 Classification report\n",
    "    * 4.3 Receiver Operating Characteristic\n",
    "* **5. Prediction and submition**\n",
    "    * 5.1 Prediction validation results\n",
    "    * 5.2 Submition\n",
    "* **6. References**"
   ]
  },
  {
   "cell_type": "markdown",
   "metadata": {},
   "source": [
    "# Introduction\n",
    "\n",
    "In this kernel I used simple skleaen model \"Logistic Regression\" and Clean data with sklean feature extraction text tool called TfidfVectorizer.\n",
    "\n",
    "Our goal in this competition we are asked to build a model that recognizes toxicity and minimizes unintended bias"
   ]
  },
  {
   "cell_type": "markdown",
   "metadata": {},
   "source": [
    "# 2. Data preparation\n",
    "## 2.1 Loading package"
   ]
  },
  {
   "cell_type": "code",
   "execution_count": 5,
   "metadata": {
    "_cell_guid": "b1076dfc-b9ad-4769-8c92-a6c4dae69d19",
    "_uuid": "8f2839f25d086af736a60e9eeb907d3b93b6e0e5"
   },
   "outputs": [],
   "source": [
    "import numpy as np # linear algebra\n",
    "import pandas as pd # data processing, CSV file I/O (e.g. pd.read_csv)\n",
    "\n",
    "import matplotlib.pyplot as plt\n",
    "import seaborn as sns\n",
    "import sklearn\n",
    "from sklearn.feature_extraction.text import TfidfVectorizer\n",
    "\n",
    "from sklearn.linear_model import LogisticRegression\n",
    "\n",
    "from sklearn.model_selection import train_test_split, cross_val_score\n",
    "\n",
    "from sklearn.metrics import accuracy_score, classification_report, confusion_matrix\n",
    "from sklearn.metrics import roc_curve, auc, roc_auc_score\n",
    "import pickle"
   ]
  },
  {
   "cell_type": "code",
   "execution_count": 13,
   "metadata": {},
   "outputs": [
    {
     "name": "stdout",
     "output_type": "stream",
     "text": [
      "['test.csv', 'test_private_expanded.csv', 'toxicity_individual_annotations.csv', 'identity_individual_annotations.csv', 'test_public_expanded.csv', 'train.csv', 'all_data.csv', 'sample_submission.csv']\n"
     ]
    }
   ],
   "source": [
    "import os\n",
    "print(os.listdir(\"input\"))"
   ]
  },
  {
   "cell_type": "code",
   "execution_count": 14,
   "metadata": {},
   "outputs": [
    {
     "name": "stdout",
     "output_type": "stream",
     "text": [
      "The scikit-learn version is 1.4.2.\n"
     ]
    }
   ],
   "source": [
    "print('The scikit-learn version is {}.'.format(sklearn.__version__))"
   ]
  },
  {
   "cell_type": "markdown",
   "metadata": {},
   "source": [
    "## 2.2 Load data"
   ]
  },
  {
   "cell_type": "code",
   "execution_count": 16,
   "metadata": {
    "_cell_guid": "79c7e3d0-c299-4dcb-8224-4455121ee9b0",
    "_uuid": "d629ff2d2480ee46fbb7e2d37f6b5fab8052498a",
    "execution": {
     "iopub.execute_input": "2022-02-01T17:57:35.40102Z",
     "iopub.status.busy": "2022-02-01T17:57:35.400761Z",
     "iopub.status.idle": "2022-02-01T17:57:52.425141Z",
     "shell.execute_reply": "2022-02-01T17:57:52.422985Z",
     "shell.execute_reply.started": "2022-02-01T17:57:35.400972Z"
    }
   },
   "outputs": [],
   "source": [
    "train_df = pd.read_csv('input/train.csv')\n",
    "test_df = pd.read_csv('input/test.csv')\n",
    "sub = pd.read_csv('input/sample_submission.csv')"
   ]
  },
  {
   "cell_type": "code",
   "execution_count": 34,
   "metadata": {
    "execution": {
     "iopub.execute_input": "2022-02-01T17:57:52.427151Z",
     "iopub.status.busy": "2022-02-01T17:57:52.426848Z",
     "iopub.status.idle": "2022-02-01T17:57:53.015572Z",
     "shell.execute_reply": "2022-02-01T17:57:53.014549Z",
     "shell.execute_reply.started": "2022-02-01T17:57:52.427073Z"
    }
   },
   "outputs": [],
   "source": [
    "df = train_df.copy()"
   ]
  },
  {
   "cell_type": "markdown",
   "metadata": {},
   "source": [
    "## 2.3 Show head of data"
   ]
  },
  {
   "cell_type": "code",
   "execution_count": 18,
   "metadata": {
    "execution": {
     "iopub.execute_input": "2022-02-01T18:15:45.807991Z",
     "iopub.status.busy": "2022-02-01T18:15:45.807499Z",
     "iopub.status.idle": "2022-02-01T18:15:45.824284Z",
     "shell.execute_reply": "2022-02-01T18:15:45.823181Z",
     "shell.execute_reply.started": "2022-02-01T18:15:45.807945Z"
    }
   },
   "outputs": [
    {
     "data": {
      "text/html": [
       "<div>\n",
       "<style scoped>\n",
       "    .dataframe tbody tr th:only-of-type {\n",
       "        vertical-align: middle;\n",
       "    }\n",
       "\n",
       "    .dataframe tbody tr th {\n",
       "        vertical-align: top;\n",
       "    }\n",
       "\n",
       "    .dataframe thead th {\n",
       "        text-align: right;\n",
       "    }\n",
       "</style>\n",
       "<table border=\"1\" class=\"dataframe\">\n",
       "  <thead>\n",
       "    <tr style=\"text-align: right;\">\n",
       "      <th></th>\n",
       "      <th>id</th>\n",
       "      <th>comment_text</th>\n",
       "    </tr>\n",
       "  </thead>\n",
       "  <tbody>\n",
       "    <tr>\n",
       "      <th>0</th>\n",
       "      <td>7097320</td>\n",
       "      <td>[ Integrity means that you pay your debts.]\\n\\...</td>\n",
       "    </tr>\n",
       "    <tr>\n",
       "      <th>1</th>\n",
       "      <td>7097321</td>\n",
       "      <td>This is malfeasance by the Administrator and t...</td>\n",
       "    </tr>\n",
       "    <tr>\n",
       "      <th>2</th>\n",
       "      <td>7097322</td>\n",
       "      <td>@Rmiller101 - Spoken like a true elitist. But ...</td>\n",
       "    </tr>\n",
       "    <tr>\n",
       "      <th>3</th>\n",
       "      <td>7097323</td>\n",
       "      <td>Paul: Thank you for your kind words.  I do, in...</td>\n",
       "    </tr>\n",
       "    <tr>\n",
       "      <th>4</th>\n",
       "      <td>7097324</td>\n",
       "      <td>Sorry you missed high school. Eisenhower sent ...</td>\n",
       "    </tr>\n",
       "  </tbody>\n",
       "</table>\n",
       "</div>"
      ],
      "text/plain": [
       "        id                                       comment_text\n",
       "0  7097320  [ Integrity means that you pay your debts.]\\n\\...\n",
       "1  7097321  This is malfeasance by the Administrator and t...\n",
       "2  7097322  @Rmiller101 - Spoken like a true elitist. But ...\n",
       "3  7097323  Paul: Thank you for your kind words.  I do, in...\n",
       "4  7097324  Sorry you missed high school. Eisenhower sent ..."
      ]
     },
     "execution_count": 18,
     "metadata": {},
     "output_type": "execute_result"
    }
   ],
   "source": [
    "test_df.head()"
   ]
  },
  {
   "cell_type": "code",
   "execution_count": 44,
   "metadata": {},
   "outputs": [
    {
     "data": {
      "text/plain": [
       "Index(['id', 'target', 'comment_text', 'severe_toxicity', 'obscene',\n",
       "       'identity_attack', 'insult', 'threat', 'asian', 'atheist', 'bisexual',\n",
       "       'black', 'buddhist', 'christian', 'female', 'heterosexual', 'hindu',\n",
       "       'homosexual_gay_or_lesbian', 'intellectual_or_learning_disability',\n",
       "       'jewish', 'latino', 'male', 'muslim', 'other_disability',\n",
       "       'other_gender', 'other_race_or_ethnicity', 'other_religion',\n",
       "       'other_sexual_orientation', 'physical_disability',\n",
       "       'psychiatric_or_mental_illness', 'transgender', 'white', 'created_date',\n",
       "       'publication_id', 'parent_id', 'article_id', 'rating', 'funny', 'wow',\n",
       "       'sad', 'likes', 'disagree', 'sexual_explicit',\n",
       "       'identity_annotator_count', 'toxicity_annotator_count'],\n",
       "      dtype='object')"
      ]
     },
     "execution_count": 44,
     "metadata": {},
     "output_type": "execute_result"
    }
   ],
   "source": [
    "df.columns"
   ]
  },
  {
   "cell_type": "code",
   "execution_count": 127,
   "metadata": {},
   "outputs": [],
   "source": [
    "# filter columns that are float:\n",
    "risk_traits = df.select_dtypes(include=['float64']).columns\n",
    "risk_traits = risk_traits.drop('target').drop('parent_id')"
   ]
  },
  {
   "cell_type": "code",
   "execution_count": 24,
   "metadata": {},
   "outputs": [
    {
     "name": "stdout",
     "output_type": "stream",
     "text": [
      "<class 'pandas.core.frame.DataFrame'>\n",
      "RangeIndex: 1804874 entries, 0 to 1804873\n",
      "Data columns (total 45 columns):\n",
      " #   Column                               Dtype  \n",
      "---  ------                               -----  \n",
      " 0   id                                   int64  \n",
      " 1   target                               float64\n",
      " 2   comment_text                         object \n",
      " 3   severe_toxicity                      float64\n",
      " 4   obscene                              float64\n",
      " 5   identity_attack                      float64\n",
      " 6   insult                               float64\n",
      " 7   threat                               float64\n",
      " 8   asian                                float64\n",
      " 9   atheist                              float64\n",
      " 10  bisexual                             float64\n",
      " 11  black                                float64\n",
      " 12  buddhist                             float64\n",
      " 13  christian                            float64\n",
      " 14  female                               float64\n",
      " 15  heterosexual                         float64\n",
      " 16  hindu                                float64\n",
      " 17  homosexual_gay_or_lesbian            float64\n",
      " 18  intellectual_or_learning_disability  float64\n",
      " 19  jewish                               float64\n",
      " 20  latino                               float64\n",
      " 21  male                                 float64\n",
      " 22  muslim                               float64\n",
      " 23  other_disability                     float64\n",
      " 24  other_gender                         float64\n",
      " 25  other_race_or_ethnicity              float64\n",
      " 26  other_religion                       float64\n",
      " 27  other_sexual_orientation             float64\n",
      " 28  physical_disability                  float64\n",
      " 29  psychiatric_or_mental_illness        float64\n",
      " 30  transgender                          float64\n",
      " 31  white                                float64\n",
      " 32  created_date                         object \n",
      " 33  publication_id                       int64  \n",
      " 34  parent_id                            float64\n",
      " 35  article_id                           int64  \n",
      " 36  rating                               object \n",
      " 37  funny                                int64  \n",
      " 38  wow                                  int64  \n",
      " 39  sad                                  int64  \n",
      " 40  likes                                int64  \n",
      " 41  disagree                             int64  \n",
      " 42  sexual_explicit                      float64\n",
      " 43  identity_annotator_count             int64  \n",
      " 44  toxicity_annotator_count             int64  \n",
      "dtypes: float64(32), int64(10), object(3)\n",
      "memory usage: 619.7+ MB\n"
     ]
    }
   ],
   "source": [
    "df.info()"
   ]
  },
  {
   "cell_type": "code",
   "execution_count": 40,
   "metadata": {},
   "outputs": [
    {
     "data": {
      "text/plain": [
       "5.8972537695152125"
      ]
     },
     "execution_count": 40,
     "metadata": {},
     "output_type": "execute_result"
    }
   ],
   "source": [
    "percent = (df[df[\"target\"] > 0.5].shape[0] / df.shape[0]) * 100\n",
    "percent\n"
   ]
  },
  {
   "cell_type": "code",
   "execution_count": 129,
   "metadata": {},
   "outputs": [
    {
     "data": {
      "text/plain": [
       "Index(['asian', 'atheist', 'bisexual', 'black', 'buddhist', 'christian',\n",
       "       'female', 'heterosexual', 'hindu', 'homosexual_gay_or_lesbian',\n",
       "       'intellectual_or_learning_disability', 'jewish', 'latino', 'male',\n",
       "       'muslim', 'other_disability', 'other_gender', 'other_race_or_ethnicity',\n",
       "       'other_religion', 'other_sexual_orientation', 'physical_disability',\n",
       "       'psychiatric_or_mental_illness', 'transgender', 'white'],\n",
       "      dtype='object')"
      ]
     },
     "execution_count": 129,
     "metadata": {},
     "output_type": "execute_result"
    }
   ],
   "source": [
    "out_of_competition_traits = [\"severe_toxicity\", \"obscene\", \"identity_attack\", \"insult\", \"threat\", \"sexual_explicit\"]\n",
    "risk_traits = risk_traits.drop(out_of_competition_traits)\n",
    "risk_traits"
   ]
  },
  {
   "cell_type": "code",
   "execution_count": 63,
   "metadata": {},
   "outputs": [
    {
     "data": {
      "image/png": "[encoded data removed]",
      "text/plain": [
       "<Figure size 1200x600 with 1 Axes>"
      ]
     },
     "metadata": {},
     "output_type": "display_data"
    }
   ],
   "source": [
    "percents = []\n",
    "for trait in out_of_competition_traits:\n",
    "    # Filter the dataframe based on the condition where some other features are each >0.5\n",
    "    filtered_df = df[df[trait] > 0.5]\n",
    "    # Compute the percent of target>0.5 among the filtered categories\n",
    "    percent = (filtered_df[filtered_df['target'] > 0.5].shape[0] / filtered_df.shape[0]) * 100\n",
    "    percents.append(percent)\n",
    "\n",
    "\n",
    "plt.figure(figsize=(12, 6))\n",
    "sns.barplot(x=out_of_competition_traits, y=percents)\n",
    "plt.xlabel('Traits')\n",
    "plt.ylabel('Percentage')\n",
    "plt.title('Percentage of target>0.5 among additional features')\n",
    "plt.xticks(rotation=90)\n",
    "plt.show()\n"
   ]
  },
  {
   "cell_type": "code",
   "execution_count": null,
   "metadata": {},
   "outputs": [],
   "source": []
  },
  {
   "cell_type": "code",
   "execution_count": 62,
   "metadata": {},
   "outputs": [
    {
     "data": {
      "image/png": "[encoded data removed]",
      "text/plain": [
       "<Figure size 1200x600 with 1 Axes>"
      ]
     },
     "metadata": {},
     "output_type": "display_data"
    }
   ],
   "source": [
    "percents = []\n",
    "for trait in risk_traits:\n",
    "    # Filter the dataframe based on the condition where some other features are each >0.5\n",
    "    filtered_df = df[df[trait] > 0.5]\n",
    "    # Compute the percent of target>0.5 among the filtered categories\n",
    "    percent = (filtered_df[filtered_df['target'] > 0.5].shape[0] / filtered_df.shape[0]) * 100\n",
    "    percents.append(percent)\n",
    "\n",
    "percents\n",
    "\n",
    "\n",
    "plt.figure(figsize=(12, 6))\n",
    "sns.barplot(x=risk_traits, y=percents)\n",
    "plt.xlabel('Traits')\n",
    "plt.ylabel('Percentage')\n",
    "plt.title('Percentage of target>0.5 among identity traits')\n",
    "plt.xticks(rotation=90)\n",
    "\n",
    "plt.show()"
   ]
  },
  {
   "cell_type": "code",
   "execution_count": 68,
   "metadata": {},
   "outputs": [
    {
     "data": {
      "image/png": "[encoded data removed]",
      "text/plain": [
       "<Figure size 640x480 with 1 Axes>"
      ]
     },
     "metadata": {},
     "output_type": "display_data"
    }
   ],
   "source": [
    "plt.hist(train_df['target'], bins=10)\n",
    "plt.xlabel('Toxicity')\n",
    "plt.ylabel('Frequency')\n",
    "plt.title('Distribution of Toxicity Variable')\n",
    "plt.show()"
   ]
  },
  {
   "cell_type": "code",
   "execution_count": 125,
   "metadata": {},
   "outputs": [
    {
     "data": {
      "text/plain": [
       "['male', 'female', 'transgender', 'other_gender']"
      ]
     },
     "execution_count": 125,
     "metadata": {},
     "output_type": "execute_result"
    }
   ],
   "source": [
    "risk_all"
   ]
  },
  {
   "cell_type": "code",
   "execution_count": 150,
   "metadata": {},
   "outputs": [],
   "source": [
    "risk_all = risk_traits\n",
    "risk_gender = ['male', 'female', 'transgender', 'other_gender']\n",
    "risk_sexual_orientation = ['heterosexual', 'homosexual_gay_or_lesbian', 'other_sexual_orientation']\n",
    "risk_religion = [\n",
    "    'christian', 'jewish', 'muslim', 'hindu', 'buddhist', 'atheist', 'other_religion'\n",
    "                  ]\n",
    "risk_disability = ['physical_disability', 'intellectual_or_learning_disability', 'psychiatric_or_mental_illness', 'other_disability']\n",
    "\n",
    "for risk in [risk_gender, risk_sexual_orientation, risk_religion, risk_disability]:\n",
    "    for el in risk:\n",
    "        assert el in risk_all, f\"{el} not\"\n"
   ]
  },
  {
   "cell_type": "code",
   "execution_count": 151,
   "metadata": {},
   "outputs": [],
   "source": [
    "risks = {\n",
    "    # \"Disability\" : risk_disability,\n",
    "    # \"Gender\" : risk_gender,\n",
    "    # \"Sexual Orientation\" : risk_sexual_orientation,\n",
    "    \"Religion\" : risk_religion\n",
    "}"
   ]
  },
  {
   "cell_type": "code",
   "execution_count": 152,
   "metadata": {},
   "outputs": [
    {
     "data": {
      "image/png": "[encoded data removed]",
      "text/plain": [
       "<Figure size 1200x400 with 7 Axes>"
      ]
     },
     "metadata": {},
     "output_type": "display_data"
    }
   ],
   "source": [
    "for risk, traits in risks.items():\n",
    "    num_cols = len(traits)\n",
    "    num_rows = 1\n",
    "\n",
    "    # Create a figure and axes for the subplots\n",
    "    fig, axes = plt.subplots(num_rows, num_cols, figsize=(12, 4), sharey=True)\n",
    "\n",
    "    # Make sure axes is an array even if there's only one plot\n",
    "    axes = np.array(axes).flatten()\n",
    "\n",
    "    # Iterate over the traits and create a histogram for each\n",
    "    for i, trait in enumerate(traits):\n",
    "        zeros_are = df[trait].value_counts(normalize=True).get(0, 0) * 100\n",
    "        axes[i].hist(df[trait], bins=10, range=(0.01, 1))\n",
    "        axes[i].set_xlabel(f\"{trait}\\n0.0 are {zeros_are:.2f}%\")\n",
    "        if i == 0:  # Set the ylabel only for the first subplot\n",
    "            axes[i].set_ylabel('Frequency')\n",
    "        axes[i].grid(axis='y')\n",
    "\n",
    "    # Adjust the spacing between subplots\n",
    "    plt.tight_layout()\n",
    "\n",
    "    # Add an overall title above all subplots if desired\n",
    "    # fig.suptitle('Your Title Here', fontsize=16)\n",
    "\n",
    "    # Show the plot\n",
    "    plt.show()\n",
    "    # break  # Only plots the first set of traits; remove if you want to plot for all risks\n"
   ]
  },
  {
   "cell_type": "code",
   "execution_count": null,
   "metadata": {},
   "outputs": [],
   "source": []
  },
  {
   "cell_type": "code",
   "execution_count": 19,
   "metadata": {
    "execution": {
     "iopub.execute_input": "2022-02-01T17:57:53.017185Z",
     "iopub.status.busy": "2022-02-01T17:57:53.016902Z",
     "iopub.status.idle": "2022-02-01T17:57:53.116752Z",
     "shell.execute_reply": "2022-02-01T17:57:53.115561Z",
     "shell.execute_reply.started": "2022-02-01T17:57:53.017134Z"
    }
   },
   "outputs": [
    {
     "data": {
      "text/html": [
       "<div>\n",
       "<style scoped>\n",
       "    .dataframe tbody tr th:only-of-type {\n",
       "        vertical-align: middle;\n",
       "    }\n",
       "\n",
       "    .dataframe tbody tr th {\n",
       "        vertical-align: top;\n",
       "    }\n",
       "\n",
       "    .dataframe thead th {\n",
       "        text-align: right;\n",
       "    }\n",
       "</style>\n",
       "<table border=\"1\" class=\"dataframe\">\n",
       "  <thead>\n",
       "    <tr style=\"text-align: right;\">\n",
       "      <th></th>\n",
       "      <th>id</th>\n",
       "      <th>target</th>\n",
       "      <th>comment_text</th>\n",
       "      <th>severe_toxicity</th>\n",
       "      <th>obscene</th>\n",
       "      <th>identity_attack</th>\n",
       "      <th>insult</th>\n",
       "      <th>threat</th>\n",
       "      <th>asian</th>\n",
       "      <th>atheist</th>\n",
       "      <th>...</th>\n",
       "      <th>article_id</th>\n",
       "      <th>rating</th>\n",
       "      <th>funny</th>\n",
       "      <th>wow</th>\n",
       "      <th>sad</th>\n",
       "      <th>likes</th>\n",
       "      <th>disagree</th>\n",
       "      <th>sexual_explicit</th>\n",
       "      <th>identity_annotator_count</th>\n",
       "      <th>toxicity_annotator_count</th>\n",
       "    </tr>\n",
       "  </thead>\n",
       "  <tbody>\n",
       "    <tr>\n",
       "      <th>0</th>\n",
       "      <td>59848</td>\n",
       "      <td>0.000000</td>\n",
       "      <td>This is so cool. It's like, 'would you want yo...</td>\n",
       "      <td>0.000000</td>\n",
       "      <td>0.0</td>\n",
       "      <td>0.000000</td>\n",
       "      <td>0.00000</td>\n",
       "      <td>0.0</td>\n",
       "      <td>NaN</td>\n",
       "      <td>NaN</td>\n",
       "      <td>...</td>\n",
       "      <td>2006</td>\n",
       "      <td>rejected</td>\n",
       "      <td>0</td>\n",
       "      <td>0</td>\n",
       "      <td>0</td>\n",
       "      <td>0</td>\n",
       "      <td>0</td>\n",
       "      <td>0.0</td>\n",
       "      <td>0</td>\n",
       "      <td>4</td>\n",
       "    </tr>\n",
       "    <tr>\n",
       "      <th>1</th>\n",
       "      <td>59849</td>\n",
       "      <td>0.000000</td>\n",
       "      <td>Thank you!! This would make my life a lot less...</td>\n",
       "      <td>0.000000</td>\n",
       "      <td>0.0</td>\n",
       "      <td>0.000000</td>\n",
       "      <td>0.00000</td>\n",
       "      <td>0.0</td>\n",
       "      <td>NaN</td>\n",
       "      <td>NaN</td>\n",
       "      <td>...</td>\n",
       "      <td>2006</td>\n",
       "      <td>rejected</td>\n",
       "      <td>0</td>\n",
       "      <td>0</td>\n",
       "      <td>0</td>\n",
       "      <td>0</td>\n",
       "      <td>0</td>\n",
       "      <td>0.0</td>\n",
       "      <td>0</td>\n",
       "      <td>4</td>\n",
       "    </tr>\n",
       "    <tr>\n",
       "      <th>2</th>\n",
       "      <td>59852</td>\n",
       "      <td>0.000000</td>\n",
       "      <td>This is such an urgent design problem; kudos t...</td>\n",
       "      <td>0.000000</td>\n",
       "      <td>0.0</td>\n",
       "      <td>0.000000</td>\n",
       "      <td>0.00000</td>\n",
       "      <td>0.0</td>\n",
       "      <td>NaN</td>\n",
       "      <td>NaN</td>\n",
       "      <td>...</td>\n",
       "      <td>2006</td>\n",
       "      <td>rejected</td>\n",
       "      <td>0</td>\n",
       "      <td>0</td>\n",
       "      <td>0</td>\n",
       "      <td>0</td>\n",
       "      <td>0</td>\n",
       "      <td>0.0</td>\n",
       "      <td>0</td>\n",
       "      <td>4</td>\n",
       "    </tr>\n",
       "    <tr>\n",
       "      <th>3</th>\n",
       "      <td>59855</td>\n",
       "      <td>0.000000</td>\n",
       "      <td>Is this something I'll be able to install on m...</td>\n",
       "      <td>0.000000</td>\n",
       "      <td>0.0</td>\n",
       "      <td>0.000000</td>\n",
       "      <td>0.00000</td>\n",
       "      <td>0.0</td>\n",
       "      <td>NaN</td>\n",
       "      <td>NaN</td>\n",
       "      <td>...</td>\n",
       "      <td>2006</td>\n",
       "      <td>rejected</td>\n",
       "      <td>0</td>\n",
       "      <td>0</td>\n",
       "      <td>0</td>\n",
       "      <td>0</td>\n",
       "      <td>0</td>\n",
       "      <td>0.0</td>\n",
       "      <td>0</td>\n",
       "      <td>4</td>\n",
       "    </tr>\n",
       "    <tr>\n",
       "      <th>4</th>\n",
       "      <td>59856</td>\n",
       "      <td>0.893617</td>\n",
       "      <td>haha you guys are a bunch of losers.</td>\n",
       "      <td>0.021277</td>\n",
       "      <td>0.0</td>\n",
       "      <td>0.021277</td>\n",
       "      <td>0.87234</td>\n",
       "      <td>0.0</td>\n",
       "      <td>0.0</td>\n",
       "      <td>0.0</td>\n",
       "      <td>...</td>\n",
       "      <td>2006</td>\n",
       "      <td>rejected</td>\n",
       "      <td>0</td>\n",
       "      <td>0</td>\n",
       "      <td>0</td>\n",
       "      <td>1</td>\n",
       "      <td>0</td>\n",
       "      <td>0.0</td>\n",
       "      <td>4</td>\n",
       "      <td>47</td>\n",
       "    </tr>\n",
       "  </tbody>\n",
       "</table>\n",
       "<p>5 rows × 45 columns</p>\n",
       "</div>"
      ],
      "text/plain": [
       "      id    target                                       comment_text  \\\n",
       "0  59848  0.000000  This is so cool. It's like, 'would you want yo...   \n",
       "1  59849  0.000000  Thank you!! This would make my life a lot less...   \n",
       "2  59852  0.000000  This is such an urgent design problem; kudos t...   \n",
       "3  59855  0.000000  Is this something I'll be able to install on m...   \n",
       "4  59856  0.893617               haha you guys are a bunch of losers.   \n",
       "\n",
       "   severe_toxicity  obscene  identity_attack   insult  threat  asian  atheist  \\\n",
       "0         0.000000      0.0         0.000000  0.00000     0.0    NaN      NaN   \n",
       "1         0.000000      0.0         0.000000  0.00000     0.0    NaN      NaN   \n",
       "2         0.000000      0.0         0.000000  0.00000     0.0    NaN      NaN   \n",
       "3         0.000000      0.0         0.000000  0.00000     0.0    NaN      NaN   \n",
       "4         0.021277      0.0         0.021277  0.87234     0.0    0.0      0.0   \n",
       "\n",
       "   ...  article_id    rating  funny  wow  sad  likes  disagree  \\\n",
       "0  ...        2006  rejected      0    0    0      0         0   \n",
       "1  ...        2006  rejected      0    0    0      0         0   \n",
       "2  ...        2006  rejected      0    0    0      0         0   \n",
       "3  ...        2006  rejected      0    0    0      0         0   \n",
       "4  ...        2006  rejected      0    0    0      1         0   \n",
       "\n",
       "   sexual_explicit  identity_annotator_count  toxicity_annotator_count  \n",
       "0              0.0                         0                         4  \n",
       "1              0.0                         0                         4  \n",
       "2              0.0                         0                         4  \n",
       "3              0.0                         0                         4  \n",
       "4              0.0                         4                        47  \n",
       "\n",
       "[5 rows x 45 columns]"
      ]
     },
     "execution_count": 19,
     "metadata": {},
     "output_type": "execute_result"
    }
   ],
   "source": [
    "df.head()"
   ]
  },
  {
   "cell_type": "markdown",
   "metadata": {},
   "source": [
    "## 2.4 Drop NAN values"
   ]
  },
  {
   "cell_type": "code",
   "execution_count": 9,
   "metadata": {
    "execution": {
     "iopub.execute_input": "2022-02-01T17:57:53.121868Z",
     "iopub.status.busy": "2022-02-01T17:57:53.121553Z",
     "iopub.status.idle": "2022-02-01T17:57:55.531228Z",
     "shell.execute_reply": "2022-02-01T17:57:55.530211Z",
     "shell.execute_reply.started": "2022-02-01T17:57:53.121804Z"
    }
   },
   "outputs": [],
   "source": [
    "df.dropna(axis=1, inplace=True)"
   ]
  },
  {
   "cell_type": "markdown",
   "metadata": {},
   "source": [
    "# 3. Clean data\n",
    "## 3.1 TfidfVectorizer\n",
    "\n",
    "Convert a collection of raw documents to a matrix of TF-IDF features."
   ]
  },
  {
   "cell_type": "code",
   "execution_count": 10,
   "metadata": {
    "execution": {
     "iopub.execute_input": "2022-02-01T17:57:55.534717Z",
     "iopub.status.busy": "2022-02-01T17:57:55.534422Z",
     "iopub.status.idle": "2022-02-01T17:59:33.686491Z",
     "shell.execute_reply": "2022-02-01T17:59:33.685406Z",
     "shell.execute_reply.started": "2022-02-01T17:57:55.534664Z"
    }
   },
   "outputs": [],
   "source": [
    "Vectorize = TfidfVectorizer()\n",
    "\n",
    "X = Vectorize.fit_transform(df[\"comment_text\"])\n",
    "\n",
    "test_X = Vectorize.transform(test_df[\"comment_text\"])"
   ]
  },
  {
   "cell_type": "code",
   "execution_count": 11,
   "metadata": {
    "execution": {
     "iopub.execute_input": "2022-02-01T17:59:33.688602Z",
     "iopub.status.busy": "2022-02-01T17:59:33.68826Z",
     "iopub.status.idle": "2022-02-01T17:59:34.91662Z",
     "shell.execute_reply": "2022-02-01T17:59:34.915636Z",
     "shell.execute_reply.started": "2022-02-01T17:59:33.688546Z"
    }
   },
   "outputs": [],
   "source": [
    "pickle.dump(Vectorize, open(\"Vectorize.pickle\", \"wb\"))"
   ]
  },
  {
   "cell_type": "code",
   "execution_count": 12,
   "metadata": {
    "execution": {
     "iopub.execute_input": "2022-02-01T17:59:34.918531Z",
     "iopub.status.busy": "2022-02-01T17:59:34.918065Z",
     "iopub.status.idle": "2022-02-01T17:59:34.929014Z",
     "shell.execute_reply": "2022-02-01T17:59:34.928273Z",
     "shell.execute_reply.started": "2022-02-01T17:59:34.918487Z"
    }
   },
   "outputs": [],
   "source": [
    "y = np.where(train_df['target'] >= 0.5, 1, 0)"
   ]
  },
  {
   "cell_type": "code",
   "execution_count": 13,
   "metadata": {
    "execution": {
     "iopub.execute_input": "2022-02-01T17:59:34.930438Z",
     "iopub.status.busy": "2022-02-01T17:59:34.930041Z",
     "iopub.status.idle": "2022-02-01T17:59:34.940498Z",
     "shell.execute_reply": "2022-02-01T17:59:34.939535Z",
     "shell.execute_reply.started": "2022-02-01T17:59:34.930398Z"
    }
   },
   "outputs": [
    {
     "data": {
      "text/plain": [
       "((1804874, 318304), (1804874,), (97320, 318304))"
      ]
     },
     "execution_count": 13,
     "metadata": {},
     "output_type": "execute_result"
    }
   ],
   "source": [
    "X.shape, y.shape, test_X.shape"
   ]
  },
  {
   "cell_type": "markdown",
   "metadata": {},
   "source": [
    "# 4. Machine learning\n",
    "## 4.1 Split data"
   ]
  },
  {
   "cell_type": "code",
   "execution_count": 14,
   "metadata": {
    "execution": {
     "iopub.execute_input": "2022-02-01T17:59:34.942209Z",
     "iopub.status.busy": "2022-02-01T17:59:34.941671Z",
     "iopub.status.idle": "2022-02-01T17:59:36.284186Z",
     "shell.execute_reply": "2022-02-01T17:59:36.283178Z",
     "shell.execute_reply.started": "2022-02-01T17:59:34.942149Z"
    }
   },
   "outputs": [],
   "source": [
    "X_train, X_test, y_train, y_test = train_test_split(X, y, test_size=1/3, random_state=42)"
   ]
  },
  {
   "cell_type": "markdown",
   "metadata": {},
   "source": [
    "## 4.2 Define Model"
   ]
  },
  {
   "cell_type": "code",
   "execution_count": 15,
   "metadata": {
    "execution": {
     "iopub.execute_input": "2022-02-01T17:59:36.285912Z",
     "iopub.status.busy": "2022-02-01T17:59:36.285616Z",
     "iopub.status.idle": "2022-02-01T17:59:36.290064Z",
     "shell.execute_reply": "2022-02-01T17:59:36.289209Z",
     "shell.execute_reply.started": "2022-02-01T17:59:36.28586Z"
    }
   },
   "outputs": [],
   "source": [
    "lr = LogisticRegression(C=5, random_state=42, solver='sag', max_iter=1000, n_jobs=-1)"
   ]
  },
  {
   "cell_type": "markdown",
   "metadata": {},
   "source": [
    "## 4.3 Fit model"
   ]
  },
  {
   "cell_type": "code",
   "execution_count": 16,
   "metadata": {
    "execution": {
     "iopub.execute_input": "2022-02-01T17:59:36.291797Z",
     "iopub.status.busy": "2022-02-01T17:59:36.291521Z",
     "iopub.status.idle": "2022-02-01T18:00:36.220723Z",
     "shell.execute_reply": "2022-02-01T18:00:36.2197Z",
     "shell.execute_reply.started": "2022-02-01T17:59:36.291746Z"
    }
   },
   "outputs": [
    {
     "data": {
      "text/plain": [
       "LogisticRegression(C=5, class_weight=None, dual=False, fit_intercept=True,\n",
       "                   intercept_scaling=1, l1_ratio=None, max_iter=1000,\n",
       "                   multi_class='warn', n_jobs=-1, penalty='l2', random_state=42,\n",
       "                   solver='sag', tol=0.0001, verbose=0, warm_start=False)"
      ]
     },
     "execution_count": 16,
     "metadata": {},
     "output_type": "execute_result"
    }
   ],
   "source": [
    "lr.fit(X_train, y_train)"
   ]
  },
  {
   "cell_type": "code",
   "execution_count": 17,
   "metadata": {
    "execution": {
     "iopub.execute_input": "2022-02-01T18:00:36.222889Z",
     "iopub.status.busy": "2022-02-01T18:00:36.222501Z",
     "iopub.status.idle": "2022-02-01T18:06:05.729571Z",
     "shell.execute_reply": "2022-02-01T18:06:05.728404Z",
     "shell.execute_reply.started": "2022-02-01T18:00:36.222821Z"
    }
   },
   "outputs": [
    {
     "name": "stdout",
     "output_type": "stream",
     "text": [
      "[0.94607756 0.94436349 0.94531875 0.94375522 0.94326619]\n",
      "0.9445562410874093\n"
     ]
    }
   ],
   "source": [
    "cv_accuracy = cross_val_score(lr, X, y, cv=5, scoring='roc_auc')\n",
    "print(cv_accuracy)\n",
    "print(cv_accuracy.mean())"
   ]
  },
  {
   "cell_type": "markdown",
   "metadata": {},
   "source": [
    "# 4. Evaluate the model"
   ]
  },
  {
   "cell_type": "code",
   "execution_count": 18,
   "metadata": {
    "execution": {
     "iopub.execute_input": "2022-02-01T18:06:05.731804Z",
     "iopub.status.busy": "2022-02-01T18:06:05.731483Z",
     "iopub.status.idle": "2022-02-01T18:06:05.741402Z",
     "shell.execute_reply": "2022-02-01T18:06:05.740485Z",
     "shell.execute_reply.started": "2022-02-01T18:06:05.731761Z"
    }
   },
   "outputs": [],
   "source": [
    "Pkl_Filename = \"Pickle_RL_Model.pkl\"  \n",
    "\n",
    "with open(Pkl_Filename, 'wb') as file:  \n",
    "    pickle.dump(lr, file)"
   ]
  },
  {
   "cell_type": "code",
   "execution_count": 19,
   "metadata": {
    "execution": {
     "iopub.execute_input": "2022-02-01T18:17:45.436542Z",
     "iopub.status.busy": "2022-02-01T18:17:45.436124Z",
     "iopub.status.idle": "2022-02-01T18:17:45.442757Z",
     "shell.execute_reply": "2022-02-01T18:17:45.441912Z",
     "shell.execute_reply.started": "2022-02-01T18:17:45.436477Z"
    }
   },
   "outputs": [
    {
     "data": {
      "text/plain": [
       "<601625x318304 sparse matrix of type '<class 'numpy.float64'>'\n",
       "\twith 23183769 stored elements in Compressed Sparse Row format>"
      ]
     },
     "execution_count": 19,
     "metadata": {},
     "output_type": "execute_result"
    }
   ],
   "source": [
    "X_test"
   ]
  },
  {
   "cell_type": "code",
   "execution_count": 20,
   "metadata": {
    "execution": {
     "iopub.execute_input": "2022-02-01T18:06:05.74326Z",
     "iopub.status.busy": "2022-02-01T18:06:05.742747Z",
     "iopub.status.idle": "2022-02-01T18:06:05.853979Z",
     "shell.execute_reply": "2022-02-01T18:06:05.853029Z",
     "shell.execute_reply.started": "2022-02-01T18:06:05.743207Z"
    }
   },
   "outputs": [],
   "source": [
    "y_pred = lr.predict(X_test)"
   ]
  },
  {
   "cell_type": "markdown",
   "metadata": {},
   "source": [
    "## 4.1 Confusion matrix"
   ]
  },
  {
   "cell_type": "code",
   "execution_count": 21,
   "metadata": {
    "execution": {
     "iopub.execute_input": "2022-02-01T18:06:05.855831Z",
     "iopub.status.busy": "2022-02-01T18:06:05.855525Z",
     "iopub.status.idle": "2022-02-01T18:06:06.585455Z",
     "shell.execute_reply": "2022-02-01T18:06:06.584274Z",
     "shell.execute_reply.started": "2022-02-01T18:06:05.855786Z"
    }
   },
   "outputs": [
    {
     "data": {
      "image/png": "[encoded data removed]",
      "text/plain": [
       "<Figure size 576x432 with 1 Axes>"
      ]
     },
     "metadata": {
      "needs_background": "light"
     },
     "output_type": "display_data"
    }
   ],
   "source": [
    "plt.figure(figsize=(8, 6))\n",
    "mat = confusion_matrix(y_test, y_pred)\n",
    "sns.heatmap(mat, square=True, annot=True, cbar=False, cmap='Reds')\n",
    "plt.xlabel('predicted value')\n",
    "plt.ylabel('true value');"
   ]
  },
  {
   "cell_type": "markdown",
   "metadata": {},
   "source": [
    "## 4.2 Classification report"
   ]
  },
  {
   "cell_type": "code",
   "execution_count": 22,
   "metadata": {
    "execution": {
     "iopub.execute_input": "2022-02-01T18:06:06.588167Z",
     "iopub.status.busy": "2022-02-01T18:06:06.587396Z",
     "iopub.status.idle": "2022-02-01T18:06:07.720314Z",
     "shell.execute_reply": "2022-02-01T18:06:07.719016Z",
     "shell.execute_reply.started": "2022-02-01T18:06:06.588079Z"
    }
   },
   "outputs": [
    {
     "name": "stdout",
     "output_type": "stream",
     "text": [
      "              precision    recall  f1-score   support\n",
      "\n",
      "           0       0.96      0.99      0.97    553213\n",
      "           1       0.77      0.50      0.60     48412\n",
      "\n",
      "    accuracy                           0.95    601625\n",
      "   macro avg       0.86      0.74      0.79    601625\n",
      "weighted avg       0.94      0.95      0.94    601625\n",
      "\n"
     ]
    }
   ],
   "source": [
    "print(classification_report(y_test, y_pred))"
   ]
  },
  {
   "cell_type": "markdown",
   "metadata": {},
   "source": [
    "## 4.3 Receiver Operating Characteristic"
   ]
  },
  {
   "cell_type": "code",
   "execution_count": 23,
   "metadata": {
    "execution": {
     "iopub.execute_input": "2022-02-01T18:06:07.72332Z",
     "iopub.status.busy": "2022-02-01T18:06:07.722589Z",
     "iopub.status.idle": "2022-02-01T18:06:08.499373Z",
     "shell.execute_reply": "2022-02-01T18:06:08.497609Z",
     "shell.execute_reply.started": "2022-02-01T18:06:07.723064Z"
    }
   },
   "outputs": [
    {
     "data": {
      "image/png": "[encoded data removed]",
      "text/plain": [
       "<Figure size 720x576 with 1 Axes>"
      ]
     },
     "metadata": {
      "needs_background": "light"
     },
     "output_type": "display_data"
    }
   ],
   "source": [
    "fpr, tpr, thr = roc_curve(y_test, lr.predict_proba(X_test)[:,1])\n",
    "#auc = auc(fpr, tpr)\n",
    "auc = roc_auc_score(y_test, y_pred)\n",
    "lw = 2\n",
    "plt.figure(figsize=(10, 8))\n",
    "plt.plot(fpr, tpr, color='darkorange', lw=lw, label=\"Curve Area = %0.3f\" % auc)\n",
    "plt.plot([0, 1], [0, 1], color='green', lw=lw, linestyle='--')\n",
    "plt.xlabel('False Positive Rate')\n",
    "plt.ylabel('True Positive Rate')\n",
    "plt.title('Receiver Operating Characteristic Plot')\n",
    "plt.legend(loc=\"lower right\")\n",
    "plt.show()"
   ]
  },
  {
   "cell_type": "markdown",
   "metadata": {},
   "source": [
    "# 5. Prediction and submission\n",
    "## 5.1 Prediction validation results"
   ]
  },
  {
   "cell_type": "code",
   "execution_count": 24,
   "metadata": {
    "execution": {
     "iopub.execute_input": "2022-02-01T18:06:08.502788Z",
     "iopub.status.busy": "2022-02-01T18:06:08.50205Z",
     "iopub.status.idle": "2022-02-01T18:06:08.53206Z",
     "shell.execute_reply": "2022-02-01T18:06:08.531283Z",
     "shell.execute_reply.started": "2022-02-01T18:06:08.502506Z"
    }
   },
   "outputs": [],
   "source": [
    "predictions = lr.predict_proba(test_X)[:,1]"
   ]
  },
  {
   "cell_type": "markdown",
   "metadata": {},
   "source": [
    "## 5.2 Submission"
   ]
  },
  {
   "cell_type": "code",
   "execution_count": 25,
   "metadata": {
    "execution": {
     "iopub.execute_input": "2022-02-01T18:06:08.537074Z",
     "iopub.status.busy": "2022-02-01T18:06:08.534432Z",
     "iopub.status.idle": "2022-02-01T18:06:08.977942Z",
     "shell.execute_reply": "2022-02-01T18:06:08.977089Z",
     "shell.execute_reply.started": "2022-02-01T18:06:08.53476Z"
    }
   },
   "outputs": [],
   "source": [
    "sub['prediction'] = predictions\n",
    "sub.to_csv('submission.csv', index=False)"
   ]
  },
  {
   "cell_type": "code",
   "execution_count": 26,
   "metadata": {
    "execution": {
     "iopub.execute_input": "2022-02-01T18:06:08.98219Z",
     "iopub.status.busy": "2022-02-01T18:06:08.981665Z",
     "iopub.status.idle": "2022-02-01T18:06:08.998495Z",
     "shell.execute_reply": "2022-02-01T18:06:08.997537Z",
     "shell.execute_reply.started": "2022-02-01T18:06:08.982101Z"
    }
   },
   "outputs": [
    {
     "data": {
      "text/html": [
       "<div>\n",
       "<style scoped>\n",
       "    .dataframe tbody tr th:only-of-type {\n",
       "        vertical-align: middle;\n",
       "    }\n",
       "\n",
       "    .dataframe tbody tr th {\n",
       "        vertical-align: top;\n",
       "    }\n",
       "\n",
       "    .dataframe thead th {\n",
       "        text-align: right;\n",
       "    }\n",
       "</style>\n",
       "<table border=\"1\" class=\"dataframe\">\n",
       "  <thead>\n",
       "    <tr style=\"text-align: right;\">\n",
       "      <th></th>\n",
       "      <th>id</th>\n",
       "      <th>prediction</th>\n",
       "    </tr>\n",
       "  </thead>\n",
       "  <tbody>\n",
       "    <tr>\n",
       "      <th>0</th>\n",
       "      <td>7097320</td>\n",
       "      <td>0.039710</td>\n",
       "    </tr>\n",
       "    <tr>\n",
       "      <th>1</th>\n",
       "      <td>7097321</td>\n",
       "      <td>0.045314</td>\n",
       "    </tr>\n",
       "    <tr>\n",
       "      <th>2</th>\n",
       "      <td>7097322</td>\n",
       "      <td>0.079036</td>\n",
       "    </tr>\n",
       "    <tr>\n",
       "      <th>3</th>\n",
       "      <td>7097323</td>\n",
       "      <td>0.022333</td>\n",
       "    </tr>\n",
       "    <tr>\n",
       "      <th>4</th>\n",
       "      <td>7097324</td>\n",
       "      <td>0.004591</td>\n",
       "    </tr>\n",
       "    <tr>\n",
       "      <th>5</th>\n",
       "      <td>7097325</td>\n",
       "      <td>0.004256</td>\n",
       "    </tr>\n",
       "    <tr>\n",
       "      <th>6</th>\n",
       "      <td>7097326</td>\n",
       "      <td>0.998521</td>\n",
       "    </tr>\n",
       "    <tr>\n",
       "      <th>7</th>\n",
       "      <td>7097327</td>\n",
       "      <td>0.357960</td>\n",
       "    </tr>\n",
       "    <tr>\n",
       "      <th>8</th>\n",
       "      <td>7097328</td>\n",
       "      <td>0.004580</td>\n",
       "    </tr>\n",
       "    <tr>\n",
       "      <th>9</th>\n",
       "      <td>7097329</td>\n",
       "      <td>0.008516</td>\n",
       "    </tr>\n",
       "    <tr>\n",
       "      <th>10</th>\n",
       "      <td>7097330</td>\n",
       "      <td>0.011549</td>\n",
       "    </tr>\n",
       "    <tr>\n",
       "      <th>11</th>\n",
       "      <td>7097331</td>\n",
       "      <td>0.202635</td>\n",
       "    </tr>\n",
       "    <tr>\n",
       "      <th>12</th>\n",
       "      <td>7097332</td>\n",
       "      <td>0.005980</td>\n",
       "    </tr>\n",
       "    <tr>\n",
       "      <th>13</th>\n",
       "      <td>7097333</td>\n",
       "      <td>0.018349</td>\n",
       "    </tr>\n",
       "    <tr>\n",
       "      <th>14</th>\n",
       "      <td>7097334</td>\n",
       "      <td>0.063248</td>\n",
       "    </tr>\n",
       "  </tbody>\n",
       "</table>\n",
       "</div>"
      ],
      "text/plain": [
       "         id  prediction\n",
       "0   7097320    0.039710\n",
       "1   7097321    0.045314\n",
       "2   7097322    0.079036\n",
       "3   7097323    0.022333\n",
       "4   7097324    0.004591\n",
       "5   7097325    0.004256\n",
       "6   7097326    0.998521\n",
       "7   7097327    0.357960\n",
       "8   7097328    0.004580\n",
       "9   7097329    0.008516\n",
       "10  7097330    0.011549\n",
       "11  7097331    0.202635\n",
       "12  7097332    0.005980\n",
       "13  7097333    0.018349\n",
       "14  7097334    0.063248"
      ]
     },
     "execution_count": 26,
     "metadata": {},
     "output_type": "execute_result"
    }
   ],
   "source": [
    "sub.head(15)"
   ]
  },
  {
   "cell_type": "markdown",
   "metadata": {},
   "source": [
    "# 6. References\n",
    "\n",
    "1. https://scikit-learn.org/stable/modules/generated/sklearn.feature_extraction.text.TfidfVectorizer.html"
   ]
  },
  {
   "cell_type": "code",
   "execution_count": 27,
   "metadata": {
    "execution": {
     "iopub.execute_input": "2022-02-01T18:06:09.000573Z",
     "iopub.status.busy": "2022-02-01T18:06:09.000031Z",
     "iopub.status.idle": "2022-02-01T18:06:09.261735Z",
     "shell.execute_reply": "2022-02-01T18:06:09.260561Z",
     "shell.execute_reply.started": "2022-02-01T18:06:09.000323Z"
    }
   },
   "outputs": [],
   "source": [
    "vectorizer = pickle.load(open(\"Vectorize.pickle\", \"rb\"))"
   ]
  },
  {
   "cell_type": "code",
   "execution_count": 28,
   "metadata": {
    "execution": {
     "iopub.execute_input": "2022-02-01T18:06:09.264082Z",
     "iopub.status.busy": "2022-02-01T18:06:09.263534Z",
     "iopub.status.idle": "2022-02-01T18:06:09.60484Z",
     "shell.execute_reply": "2022-02-01T18:06:09.603807Z",
     "shell.execute_reply.started": "2022-02-01T18:06:09.263971Z"
    }
   },
   "outputs": [],
   "source": [
    "# Define a dictionary containing employee data \n",
    "data = {'comment_text':['you are amazing']} \n",
    "   \n",
    "# Convert the dictionary to DataFrame  \n",
    "df = pd.DataFrame(data) "
   ]
  },
  {
   "cell_type": "code",
   "execution_count": 29,
   "metadata": {
    "execution": {
     "iopub.execute_input": "2022-02-01T18:06:09.606802Z",
     "iopub.status.busy": "2022-02-01T18:06:09.606246Z",
     "iopub.status.idle": "2022-02-01T18:06:09.618414Z",
     "shell.execute_reply": "2022-02-01T18:06:09.617471Z",
     "shell.execute_reply.started": "2022-02-01T18:06:09.60652Z"
    }
   },
   "outputs": [],
   "source": [
    "testing = vectorizer.transform(data[\"comment_text\"])"
   ]
  },
  {
   "cell_type": "code",
   "execution_count": 30,
   "metadata": {
    "execution": {
     "iopub.execute_input": "2022-02-01T18:06:09.620709Z",
     "iopub.status.busy": "2022-02-01T18:06:09.620135Z",
     "iopub.status.idle": "2022-02-01T18:06:09.632833Z",
     "shell.execute_reply": "2022-02-01T18:06:09.631751Z",
     "shell.execute_reply.started": "2022-02-01T18:06:09.620644Z"
    }
   },
   "outputs": [
    {
     "data": {
      "text/plain": [
       "LogisticRegression(C=5, class_weight=None, dual=False, fit_intercept=True,\n",
       "                   intercept_scaling=1, l1_ratio=None, max_iter=1000,\n",
       "                   multi_class='warn', n_jobs=-1, penalty='l2', random_state=42,\n",
       "                   solver='sag', tol=0.0001, verbose=0, warm_start=False)"
      ]
     },
     "execution_count": 30,
     "metadata": {},
     "output_type": "execute_result"
    }
   ],
   "source": [
    "# Load the Model back from file\n",
    "with open(Pkl_Filename, 'rb') as file:  \n",
    "    Pickled_LR_Model = pickle.load(file)\n",
    "\n",
    "Pickled_LR_Model"
   ]
  },
  {
   "cell_type": "code",
   "execution_count": 31,
   "metadata": {
    "execution": {
     "iopub.execute_input": "2022-02-01T18:06:09.634419Z",
     "iopub.status.busy": "2022-02-01T18:06:09.633969Z",
     "iopub.status.idle": "2022-02-01T18:06:09.643457Z",
     "shell.execute_reply": "2022-02-01T18:06:09.642461Z",
     "shell.execute_reply.started": "2022-02-01T18:06:09.634365Z"
    }
   },
   "outputs": [
    {
     "data": {
      "text/plain": [
       "array([[0.96189123, 0.03810877]])"
      ]
     },
     "execution_count": 31,
     "metadata": {},
     "output_type": "execute_result"
    }
   ],
   "source": [
    "# Predict the Labels using the reloaded Model\n",
    "Ypredict = Pickled_LR_Model.predict_proba(testing)  \n",
    "\n",
    "Ypredict"
   ]
  },
  {
   "cell_type": "code",
   "execution_count": null,
   "metadata": {},
   "outputs": [],
   "source": []
  },
  {
   "cell_type": "code",
   "execution_count": null,
   "metadata": {},
   "outputs": [],
   "source": []
  }
 ],
 "metadata": {
  "kernelspec": {
   "display_name": "Python 3",
   "language": "python",
   "name": "python3"
  },
  "language_info": {
   "codemirror_mode": {
    "name": "ipython",
    "version": 3
   },
   "file_extension": ".py",
   "mimetype": "text/x-python",
   "name": "python",
   "nbconvert_exporter": "python",
   "pygments_lexer": "ipython3",
   "version": "3.11.5"
  }
 },
 "nbformat": 4,
 "nbformat_minor": 4
}
